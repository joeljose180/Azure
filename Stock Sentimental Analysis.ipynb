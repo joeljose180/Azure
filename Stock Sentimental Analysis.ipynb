{
 "cells": [
  {
   "cell_type": "code",
   "execution_count": null,
   "id": "da3be64d",
   "metadata": {},
   "outputs": [],
   "source": [
    "import numpy as np\n",
    "import pandas as pd\n",
    "import matplotlib.pyplot as plt\n",
    "import seaborn as sns"
   ]
  },
  {
   "cell_type": "code",
   "execution_count": null,
   "id": "3b91133a",
   "metadata": {},
   "outputs": [],
   "source": [
    "# Obtaining dataframe from csv format which was downloaded from Kaggle\n",
    "df = pd.read_csv('Combined_News_DJIA.csv',encoding = \"ISO-8859-1\")"
   ]
  },
  {
   "cell_type": "code",
   "execution_count": null,
   "id": "8710cf69",
   "metadata": {},
   "outputs": [],
   "source": [
    "df.head()"
   ]
  },
  {
   "cell_type": "code",
   "execution_count": null,
   "id": "d9009609",
   "metadata": {},
   "outputs": [],
   "source": [
    "df.tail()"
   ]
  },
  {
   "cell_type": "code",
   "execution_count": null,
   "id": "69ecb08b",
   "metadata": {},
   "outputs": [],
   "source": [
    "#checking null values in dataset\n",
    "df.info()"
   ]
  },
  {
   "cell_type": "code",
   "execution_count": null,
   "id": "09e70dd2",
   "metadata": {},
   "outputs": [],
   "source": [
    "df.isna().sum()"
   ]
  },
  {
   "cell_type": "code",
   "execution_count": null,
   "id": "616404ca",
   "metadata": {},
   "outputs": [],
   "source": [
    "train = df[df['Date']<'2015-01-01']\n",
    "test = df[df['Date']>'2014-12-31']"
   ]
  },
  {
   "cell_type": "code",
   "execution_count": null,
   "id": "6095c3ed",
   "metadata": {},
   "outputs": [],
   "source": [
    "# Removing punctuations\n",
    "data=train.iloc[:,2:27]\n",
    "data.replace(\"[^a-zA-Z]\",\" \",regex=True, inplace=True)\n",
    "\n",
    "# Renaming column names for ease of access\n",
    "list1= [i for i in range(25)]\n",
    "new_Index=[str(i) for i in list1]\n",
    "data.columns= new_Index\n",
    "data.head(5)\n",
    "    \n"
   ]
  },
  {
   "cell_type": "code",
   "execution_count": null,
   "id": "add71697",
   "metadata": {},
   "outputs": [],
   "source": [
    "# Convertng headlines to lower case\n",
    "for index in new_Index:\n",
    "    data[index]=data[index].str.lower()\n",
    "data.head(1)"
   ]
  },
  {
   "cell_type": "code",
   "execution_count": null,
   "id": "b1e99e9e",
   "metadata": {},
   "outputs": [],
   "source": [
    "' '.join(str(x) for x in data.iloc[1,0:25])\n"
   ]
  },
  {
   "cell_type": "code",
   "execution_count": null,
   "id": "a25c8921",
   "metadata": {
    "scrolled": true
   },
   "outputs": [],
   "source": [
    "headlines = []\n",
    "for row in range(0,len(data.index)):\n",
    "    headlines.append(' '.join(str(x) for x in data.iloc[row,0:25]))"
   ]
  },
  {
   "cell_type": "code",
   "execution_count": null,
   "id": "c0a5e748",
   "metadata": {},
   "outputs": [],
   "source": [
    "headlines[0]"
   ]
  },
  {
   "cell_type": "code",
   "execution_count": null,
   "id": "c0d15c51",
   "metadata": {},
   "outputs": [],
   "source": [
    "from sklearn.feature_extraction.text import CountVectorizer\n",
    "from sklearn.ensemble import RandomForestClassifier\n"
   ]
  },
  {
   "cell_type": "code",
   "execution_count": null,
   "id": "12936f0c",
   "metadata": {},
   "outputs": [],
   "source": [
    "## implement BAG OF WORDS\n",
    "countvector=CountVectorizer(ngram_range=(2,2))\n",
    "traindataset=countvector.fit_transform(headlines)"
   ]
  },
  {
   "cell_type": "code",
   "execution_count": null,
   "id": "34808def",
   "metadata": {},
   "outputs": [],
   "source": [
    "# implement RandomForest Classifier\n",
    "randomclassifier=RandomForestClassifier(n_estimators=200,criterion='entropy')\n",
    "randomclassifier.fit(traindataset,train['Label'])"
   ]
  },
  {
   "cell_type": "code",
   "execution_count": null,
   "id": "20ef3752",
   "metadata": {},
   "outputs": [],
   "source": [
    "## Predict for the Test Dataset\n",
    "test_transform= []\n",
    "for row in range(0,len(test.index)):\n",
    "    test_transform.append(' '.join(str(x) for x in test.iloc[row,2:27]))\n",
    "test_dataset = countvector.transform(test_transform)\n",
    "predictions = randomclassifier.predict(test_dataset)"
   ]
  },
  {
   "cell_type": "code",
   "execution_count": null,
   "id": "a287ca09",
   "metadata": {},
   "outputs": [],
   "source": [
    "## Import library to check accuracy\n",
    "from sklearn.metrics import classification_report,confusion_matrix,accuracy_score"
   ]
  },
  {
   "cell_type": "code",
   "execution_count": null,
   "id": "d84aad30",
   "metadata": {},
   "outputs": [],
   "source": [
    "matrix=confusion_matrix(test['Label'],predictions)\n",
    "print(matrix)\n",
    "score=accuracy_score(test['Label'],predictions)\n",
    "print(score)\n",
    "report=classification_report(test['Label'],predictions)\n",
    "print(report)"
   ]
  },
  {
   "cell_type": "code",
   "execution_count": null,
   "id": "9f0e2835",
   "metadata": {},
   "outputs": [],
   "source": [
    "from flask import Flask,request,render_template\n",
    "import pickle"
   ]
  },
  {
   "cell_type": "code",
   "execution_count": null,
   "id": "b5ddb0f5",
   "metadata": {},
   "outputs": [],
   "source": [
    "app = Flask('__name__')"
   ]
  },
  {
   "cell_type": "code",
   "execution_count": null,
   "id": "27b09183",
   "metadata": {},
   "outputs": [],
   "source": [
    "q = \"\""
   ]
  },
  {
   "cell_type": "code",
   "execution_count": null,
   "id": "94ab68f8",
   "metadata": {},
   "outputs": [],
   "source": [
    "#app.route('/')\n",
    "def loadPage():\n",
    "    return render_template('home.html',query=\"\")\n",
    "    "
   ]
  },
  {
   "cell_type": "code",
   "execution_count": null,
   "id": "f9326f1c",
   "metadata": {},
   "outputs": [],
   "source": [
    "#app.route('/predict',method=['post'])\n",
    "def predict():\n",
    "    inputQuery1 = request.form['query1']\n",
    "    inputQuery2 = request.form['query2']\n",
    "    inputQuery3 = request.form['query3']\n",
    "    inputQuery4 = request.form['query4']\n",
    "    inputQuery5 = request.form['query5']\n",
    "    \n",
    "    model = pickle.load(open('model.sav','rb'))\n",
    "    \n",
    "    data = [[inputQuery1,inputQuery2,inputQuery3,inputQuery4,inputQuery5]]\n",
    "    new_df = pd.DataFrame(data,columns=['texture_mean','perimeter_mean','smoothness_mean','compactness_mean','symmetry_mean'])\n",
    "    \n",
    "    single = model.predict(new_df)\n",
    "    probability = model.predict_proba(new_df)[:,1]\n",
    "    \n",
    "    if single==1:\n",
    "        o1 = 'The stockprice increased'\n",
    "        o2 = 'Confidence: {}'.format(probablity*100)\n",
    "    else:\n",
    "        o1 = 'The stockprice remains same or decreased'\n",
    "        o2 = 'Confidence: {}'.format(probablity*100)\n",
    "    \n",
    "    return render_template('home.html',output1=o1, output2=o2, query1 = request.form['query1'], query2 = request.form['query2'], query3 = request.form['query3'], query4 = request.form['query4'], query5 = request.form['query5'])\n"
   ]
  },
  {
   "cell_type": "code",
   "execution_count": null,
   "id": "700c1a03",
   "metadata": {},
   "outputs": [],
   "source": [
    "if __name__ == '__main__':\n",
    "    app.run()"
   ]
  },
  {
   "cell_type": "code",
   "execution_count": null,
   "id": "f4e02966",
   "metadata": {},
   "outputs": [],
   "source": []
  }
 ],
 "metadata": {
  "kernelspec": {
   "display_name": "Python 3",
   "language": "python",
   "name": "python3"
  },
  "language_info": {
   "codemirror_mode": {
    "name": "ipython",
    "version": 3
   },
   "file_extension": ".py",
   "mimetype": "text/x-python",
   "name": "python",
   "nbconvert_exporter": "python",
   "pygments_lexer": "ipython3",
   "version": "3.8.8"
  }
 },
 "nbformat": 4,
 "nbformat_minor": 5
}
